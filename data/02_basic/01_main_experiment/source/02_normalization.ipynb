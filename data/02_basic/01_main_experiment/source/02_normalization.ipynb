{
 "cells": [
  {
   "cell_type": "markdown",
   "id": "78386d80-b50e-4adf-8fb6-f48bc2c3d6e7",
   "metadata": {},
   "source": [
    "# Purpose\n",
    "get a normalization factor."
   ]
  },
  {
   "cell_type": "markdown",
   "id": "56b333db-1fd5-4161-8191-70c50dd58015",
   "metadata": {},
   "source": [
    "## setup modules"
   ]
  },
  {
   "cell_type": "code",
   "execution_count": 1,
   "id": "4517aa9f-11d2-41c2-889d-c725757b9c84",
   "metadata": {},
   "outputs": [],
   "source": [
    "import glob\n",
    "import h5py\n",
    "import numpy as np\n",
    "import matplotlib.pyplot as plt\n",
    "from matplotlib.colors import LogNorm\n",
    "import scipy.interpolate as interp\n",
    "import os\n",
    "from typing import Tuple, Union, Dict\n",
    "\n",
    "%matplotlib inline"
   ]
  },
  {
   "cell_type": "code",
   "execution_count": 2,
   "id": "bc3ca4b7-bb3b-43b6-a108-3651c1d6073b",
   "metadata": {},
   "outputs": [],
   "source": [
    "def print_h5_tree(val, pre=''):\n",
    "    if isinstance(val, h5py._hl.files.File):\n",
    "        print(val.filename)\n",
    "\n",
    "    items = len(val)\n",
    "    for key, val in val.items():\n",
    "        items -= 1\n",
    "        if items == 0:\n",
    "            # the last item\n",
    "            if isinstance(val, h5py._hl.group.Group):\n",
    "                print(pre + '└── ' + key)\n",
    "                print_h5_tree(val, pre+'    ')\n",
    "            else:\n",
    "                print(pre + '└── ' + key)\n",
    "        else:\n",
    "            if isinstance(val, h5py._hl.group.Group):\n",
    "                print(pre + '├── ' + key)\n",
    "                print_h5_tree(val, pre+'│   ')\n",
    "            else:\n",
    "                print(pre + '├── ' + key)"
   ]
  },
  {
   "cell_type": "markdown",
   "id": "b97d3ed2-bc86-40cc-b19e-0103175d8ca8",
   "metadata": {
    "tags": []
   },
   "source": [
    "## list up the outputs"
   ]
  },
  {
   "cell_type": "code",
   "execution_count": 3,
   "id": "3caad9f1-9382-4392-b81b-7c1eaffc5106",
   "metadata": {},
   "outputs": [],
   "source": [
    "srcdir = \"../output_data/01_simulation/\"\n",
    "srclist = sorted(glob.glob(os.path.join(srcdir, \"*.h5\")))"
   ]
  },
  {
   "cell_type": "code",
   "execution_count": null,
   "id": "a4577ed9-52d2-4021-89db-1c72d9c858cc",
   "metadata": {},
   "outputs": [],
   "source": [
    "with h5py.File(srclist[0], \"r\") as tree:\n",
    "    print_h5_tree(tree)"
   ]
  },
  {
   "cell_type": "markdown",
   "id": "345008ab-09e4-4bf5-ab0d-f0a3c8f6d38c",
   "metadata": {},
   "source": [
    "## get the Fourier modulus of the target crystal with the maximum radius"
   ]
  },
  {
   "cell_type": "code",
   "execution_count": 5,
   "id": "20da007c-a1f6-468a-a6c7-be0c8049a0ff",
   "metadata": {},
   "outputs": [],
   "source": [
    "radii = []\n",
    "for fpath in srclist:\n",
    "    with h5py.File(fpath, \"r\") as tree:\n",
    "        radii.append(tree['input_parameters']['target']['crystal_characteristic_length'][()])\n",
    "\n",
    "radii = np.array(radii)"
   ]
  },
  {
   "cell_type": "code",
   "execution_count": null,
   "id": "ab100686-a3c7-42d6-97dd-c495a2c73249",
   "metadata": {},
   "outputs": [],
   "source": [
    "radii.max(), np.where(radii == radii.max())[0][0]"
   ]
  },
  {
   "cell_type": "markdown",
   "id": "0faf7f51-5162-4360-96ec-b25dd7b88f17",
   "metadata": {},
   "source": [
    "The maximum radius is 112.00 angstroms."
   ]
  },
  {
   "cell_type": "code",
   "execution_count": 7,
   "id": "2a213ca9-8848-4dd2-a834-f7255d120b72",
   "metadata": {},
   "outputs": [],
   "source": [
    "def get_fourier_modulus(fpath: str) -> np.ndarray:\n",
    "    dst = None\n",
    "    with h5py.File(fpath, \"r\") as tree:\n",
    "        dst = tree['outputs']['main_outputs']['fourier_modulus'][()]\n",
    "    return dst"
   ]
  },
  {
   "cell_type": "code",
   "execution_count": null,
   "id": "a06096a9-f02f-4ee0-8f11-2dbe6b9361b1",
   "metadata": {},
   "outputs": [],
   "source": [
    "ind_radii_max = np.where(radii == radii.max())[0][0]\n",
    "\n",
    "F = get_fourier_modulus(srclist[ind_radii_max])\n",
    "I_radii_max = np.abs(F)**2\n",
    "\n",
    "pos = np.where(I_radii_max == I_radii_max.max())\n",
    "\n",
    "pos"
   ]
  },
  {
   "cell_type": "markdown",
   "id": "2b5c02e1-a538-4254-81df-e987da13c2ef",
   "metadata": {
    "tags": []
   },
   "source": [
    "## get a position of a Bragg spot"
   ]
  },
  {
   "cell_type": "code",
   "execution_count": 9,
   "id": "7d01c723-0cea-42b3-8352-e6b38b039643",
   "metadata": {},
   "outputs": [],
   "source": [
    "def get_qrange(fpath: str) -> Tuple[Union[Dict[str, Union[Tuple[float], float]], float]]:\n",
    "    qranges = {\n",
    "        'x': None,  # (min, max)\n",
    "        'y': None,  # (min, max)\n",
    "    }\n",
    "    dqs = {\n",
    "        'x': None,\n",
    "        'y': None,\n",
    "    }\n",
    "    q_spot_expected = None\n",
    "    with h5py.File(fpath, \"r\") as tree:\n",
    "        qranges['x'] = (\n",
    "            tree['outputs']['momentum_space']['momentum_x'][()].min(),\n",
    "            tree['outputs']['momentum_space']['momentum_x'][()].max()\n",
    "        )\n",
    "        qranges['y'] = (\n",
    "            tree['outputs']['momentum_space']['momentum_y'][()].min(),\n",
    "            tree['outputs']['momentum_space']['momentum_y'][()].max()\n",
    "        ) \n",
    "\n",
    "        dqs['x'] = np.diff(sorted(np.unique(tree['outputs']['momentum_space']['momentum_x'][()])))[0]\n",
    "        dqs['y'] = np.diff(sorted(np.unique(tree['outputs']['momentum_space']['momentum_y'][()])))[0]\n",
    "\n",
    "        q_spot_expected = 2. * np.pi / tree['input_parameters']['target']['unit_cell_length'][()] * \\\n",
    "            np.linalg.norm(tree['input_parameters']['target']['miller_index'][()])\n",
    "    \n",
    "    return qranges, dqs, q_spot_expected"
   ]
  },
  {
   "cell_type": "code",
   "execution_count": 10,
   "id": "b8121539-960d-4883-9c66-f528bb4ae35e",
   "metadata": {},
   "outputs": [],
   "source": [
    "qranges, dqs, q_spot_expected = get_qrange(srclist[ind_radii_max])"
   ]
  },
  {
   "cell_type": "code",
   "execution_count": null,
   "id": "86a0d1be-36ba-4b59-8579-718a7d0f3e6c",
   "metadata": {},
   "outputs": [],
   "source": [
    "extent = [\n",
    "    qranges['x'][0] - dqs['x'] / 2.0, qranges['x'][1] + dqs['x'] / 2.0,\n",
    "    qranges['y'][0] - dqs['y'] / 2.0, qranges['y'][1] + dqs['y'] / 2.0\n",
    "]  # (left, right, bottom, top)\n",
    "\n",
    "# show the modulus\n",
    "plt.figure(figsize=(12,5))\n",
    "plt.subplot(121)\n",
    "plt.imshow(\n",
    "    I_radii_max, origin='lower', extent=extent,\n",
    "    norm=LogNorm(vmin=I_radii_max.max() / 1e2, vmax=I_radii_max.max())\n",
    ")\n",
    "\n",
    "# plot a circle with a radius of $2\\pi / d(111)$\n",
    "theta = np.arange(0., 2.*np.pi, np.pi/100)\n",
    "plt.plot(q_spot_expected * np.sin(theta), q_spot_expected * np.cos(theta), '-')\n",
    "\n",
    "plt.xlabel('$q_x (1/\\AA$)')\n",
    "plt.ylabel('$q_y (1/\\AA$)')\n",
    "plt.colorbar()\n",
    "\n",
    "# zoom-in\n",
    "plt.subplot(122)\n",
    "plt.imshow(\n",
    "    I_radii_max, origin='lower', extent=extent,\n",
    "    norm=LogNorm(vmin=I_radii_max.max() / 1e2, vmax=I_radii_max.max())\n",
    ")\n",
    "\n",
    "# plot a circle with a radius of $2\\pi / d(111)$\n",
    "theta = np.arange(0., 2.*np.pi, np.pi/100)\n",
    "plt.plot(q_spot_expected * np.sin(theta), q_spot_expected * np.cos(theta), '-')\n",
    "\n",
    "plt.xlabel('$q_x (1/\\AA$)')\n",
    "plt.ylabel('$q_y (1/\\AA$)')\n",
    "\n",
    "width = q_spot_expected * 0.1\n",
    "plt.xlim(-q_spot_expected - width, -q_spot_expected + width)\n",
    "plt.ylim(-width, width)\n",
    "plt.colorbar()\n",
    "\n",
    "plt.tight_layout()"
   ]
  },
  {
   "cell_type": "markdown",
   "id": "7990e7db-1030-44cd-a1e0-09f46c15811b",
   "metadata": {},
   "source": [
    "A Bragg spot was observed at around $(q_x, q_y) = (-q_{expect}, 0.0)$, where $q_{expect}$ is the momentum transfer calculated from the Miller index."
   ]
  },
  {
   "cell_type": "code",
   "execution_count": 12,
   "id": "ecfe9d8c-d6f8-424b-ad8d-f28032039380",
   "metadata": {},
   "outputs": [],
   "source": [
    "def get_spot_positions(\n",
    "    fpath: str, intensity_map: np.ndarray, pos_expected: Tuple[float],\n",
    "    width: float, threshold: float = None\n",
    ") -> Tuple[dict]:\n",
    "    if not threshold:\n",
    "        threshold = intensity_map.max() / 1e3\n",
    "    qranges, dqs, q_spot_expected = get_qrange(fpath)\n",
    "\n",
    "    pos_spot_ranges = {  # (min, max)\n",
    "        'x': None,\n",
    "        'y': None\n",
    "    }\n",
    "    pos_spot_peak = {\n",
    "        'x': None,\n",
    "        'y': None\n",
    "    }\n",
    "    with h5py.File(fpath, \"r\") as tree:\n",
    "        qxx_ = tree['outputs']['momentum_space']['momentum_x'][()]\n",
    "        qyy_ = tree['outputs']['momentum_space']['momentum_y'][()]\n",
    "        pos_cand_ = np.where(\n",
    "            (qxx_ >= pos_expected[1] - width)&(qxx_ <= pos_expected[1] + width)&\n",
    "            (qyy_ >= pos_expected[0] - width)&(qyy_ <= pos_expected[0] + width)&\n",
    "            (intensity_map >= threshold)\n",
    "        )\n",
    "        pos_spot_ranges['x'] = (pos_cand_[1].min(), pos_cand_[1].max())\n",
    "        pos_spot_ranges['y'] = (pos_cand_[0].min(), pos_cand_[0].max())\n",
    "        I_ = intensity_map[\n",
    "            pos_spot_ranges['y'][0]:pos_spot_ranges['y'][1]+1,\n",
    "            pos_spot_ranges['x'][0]:pos_spot_ranges['x'][1]+1\n",
    "        ]\n",
    "        ind_max_in_cand_ = np.where(I_ == I_.max())\n",
    "        pos_spot_peak['x'] = pos_spot_ranges['x'][0] + ind_max_in_cand_[0][0]\n",
    "        pos_spot_peak['y'] = pos_spot_ranges['y'][0] + ind_max_in_cand_[0][0]\n",
    "\n",
    "    pos_spot_qranges = {}\n",
    "    for key in pos_spot_ranges.keys():\n",
    "        pos_spot_qranges[key] = qranges[key][0] + np.arange(pos_spot_ranges[key][0], pos_spot_ranges[key][1] + 1) * dqs[key]\n",
    "\n",
    "    pos_spot_peak_q = {}\n",
    "    for key in pos_spot_peak.keys():\n",
    "        pos_spot_peak_q[key] = qranges[key][0] + pos_spot_peak[key] * dqs[key]\n",
    "    \n",
    "    return pos_spot_ranges, pos_spot_peak, pos_spot_qranges, pos_spot_peak_q"
   ]
  },
  {
   "cell_type": "code",
   "execution_count": 13,
   "id": "042ded16-c9d6-4ad0-a76b-d6df4501eebb",
   "metadata": {},
   "outputs": [],
   "source": [
    "pos_expected = (0.0, -q_spot_expected)\n",
    "width = q_spot_expected * 0.1\n",
    "threshold_I = I_radii_max.max() / 1e3\n",
    "\n",
    "pos_spot_ranges, pos_spot_peak, pos_spot_qranges, pos_spot_peak_q = get_spot_positions(\n",
    "    srclist[ind_radii_max], I_radii_max, pos_expected, width, threshold_I\n",
    ")"
   ]
  },
  {
   "cell_type": "code",
   "execution_count": null,
   "id": "30d5211a-ccdc-4266-a6e8-7e72a9a8cce2",
   "metadata": {},
   "outputs": [],
   "source": [
    "extent = [\n",
    "    qranges['x'][0] - dqs['x'] / 2.0, qranges['x'][1] + dqs['x'] / 2.0,\n",
    "    qranges['y'][0] - dqs['y'] / 2.0, qranges['y'][1] + dqs['y'] / 2.0\n",
    "]  # (left, right, bottom, top)\n",
    "\n",
    "# show the modulus\n",
    "plt.figure(figsize=(18,5))\n",
    "plt.subplot(131)\n",
    "plt.imshow(\n",
    "    I_radii_max, origin='lower', extent=extent,\n",
    "    norm=LogNorm(vmin=threshold_I / 1e2, vmax=I_radii_max.max())\n",
    ")\n",
    "\n",
    "# plot a circle with a radius of $2\\pi / d(111)$\n",
    "theta = np.arange(0., 2.*np.pi, np.pi/100)\n",
    "plt.plot(q_spot_expected * np.sin(theta), q_spot_expected * np.cos(theta), '-')\n",
    "\n",
    "# plot a peak position and cross lines at the peak\n",
    "plt.plot(pos_spot_peak_q['x'], pos_spot_peak_q['y'], \"o\")\n",
    "plt.hlines(\n",
    "    pos_spot_peak_q['y'], pos_spot_qranges['x'][0], pos_spot_qranges['x'][-1],\n",
    "    colors='y'\n",
    ")\n",
    "plt.vlines(\n",
    "    pos_spot_peak_q['x'], pos_spot_qranges['y'][0], pos_spot_qranges['y'][-1],\n",
    "    colors='y'\n",
    ")\n",
    "\n",
    "plt.xlabel('$q_x (1/\\AA$)')\n",
    "plt.ylabel('$q_y (1/\\AA$)')\n",
    "plt.title('Bragg spot')\n",
    "\n",
    "plt.xlim(pos_spot_qranges['x'][0], pos_spot_qranges['x'][-1])\n",
    "plt.ylim(pos_spot_qranges['y'][0], pos_spot_qranges['y'][-1])\n",
    "plt.colorbar()\n",
    "\n",
    "# plot an x-direction profile at the peak position\n",
    "plt.subplot(132)\n",
    "plt.plot(\n",
    "    pos_spot_qranges['x'],\n",
    "    I_radii_max[pos_spot_peak['y'], pos_spot_ranges['x'][0]:pos_spot_ranges['x'][1]+1]\n",
    ")\n",
    "plt.yscale('log')\n",
    "plt.xlabel('$q_x (1/\\AA$)')\n",
    "plt.title('An x-direction profile at the peak')\n",
    "\n",
    "# plot a y-direction profile at the peak position\n",
    "plt.subplot(133)\n",
    "plt.plot(\n",
    "    pos_spot_qranges['y'],\n",
    "    I_radii_max[pos_spot_ranges['y'][0]:pos_spot_ranges['y'][1]+1, pos_spot_peak['x']]\n",
    ")\n",
    "plt.yscale('log')\n",
    "plt.xlabel('$q_y (1/\\AA$)')\n",
    "plt.title('A y-direction profile at the peak')\n",
    "\n",
    "plt.tight_layout()"
   ]
  },
  {
   "cell_type": "markdown",
   "id": "4219fa70-117a-4d22-85bd-8f30a7a186ac",
   "metadata": {},
   "source": [
    "Since the momentum spatial resolution is bad, this time the normalization factor will be calculated as to set $I_{sum} = I_{peak} \\times \\times {FWHM}_x \\times {FWHM}_y$ to 10,000 (photons). Here the unit of FWHM is $\\AA^{-1}$. The FWHMs will be estmated with the inner interpolation."
   ]
  },
  {
   "cell_type": "code",
   "execution_count": 15,
   "id": "39df6050-0275-4f1b-8aed-e93be1daa05c",
   "metadata": {},
   "outputs": [],
   "source": [
    "def get_fine_fwhm(\n",
    "    intensity_map: np.ndarray,\n",
    "    pos_spot_qranges: dict, pos_spot_peak: dict,\n",
    "    fine_step: float, find_fwhm_factor: float = 0.05\n",
    ") -> dict:\n",
    "    # interpolation functions\n",
    "    f_interp = {\n",
    "        'x': interp.interp1d(\n",
    "            pos_spot_qranges['x'],\n",
    "            intensity_map[pos_spot_peak['y'], pos_spot_ranges['x'][0]:pos_spot_ranges['x'][1]+1]\n",
    "        ),\n",
    "        'y': interp.interp1d(\n",
    "            pos_spot_qranges['y'],\n",
    "            intensity_map[pos_spot_ranges['y'][0]:pos_spot_ranges['y'][1]+1, pos_spot_peak['x']]\n",
    "        )\n",
    "    }\n",
    "\n",
    "    # interpolation\n",
    "    fine_step = 0.1  # pixels\n",
    "    qranges_fine = {}\n",
    "    for key in pos_spot_qranges.keys():\n",
    "        qranges_fine[key] = qranges[key][0] + np.arange(\n",
    "            pos_spot_ranges[key][0], pos_spot_ranges[key][1], fine_step\n",
    "        ) * dqs[key]\n",
    "\n",
    "    profiles_fine = {}\n",
    "    for key in pos_spot_qranges.keys():\n",
    "        profiles_fine[key] = f_interp[key](qranges_fine[key])\n",
    "\n",
    "    # find FWHMs\n",
    "    find_fwhm_factor = 0.05\n",
    "    fwhms = {}\n",
    "    for key in pos_spot_qranges.keys():\n",
    "        ind_lower_ = np.where(\n",
    "            (qranges_fine[key] <= qranges_fine[key].mean())&\n",
    "            (profiles_fine[key] >= profiles_fine[key].max()/2 * (1. - find_fwhm_factor))&\n",
    "            (profiles_fine[key] <= profiles_fine[key].max()/2 * (1. + find_fwhm_factor))\n",
    "        )[0][0]\n",
    "        ind_higher_ = np.where(\n",
    "            (qranges_fine[key] >= qranges_fine[key].mean())&\n",
    "            (profiles_fine[key] >= profiles_fine[key].max()/2 * (1. - find_fwhm_factor))&\n",
    "            (profiles_fine[key] <= profiles_fine[key].max()/2 * (1. + find_fwhm_factor))\n",
    "        )[0][0]\n",
    "        fwhms[key] = qranges_fine[key][ind_higher_] - qranges_fine[key][ind_lower_]\n",
    "    return fwhms"
   ]
  },
  {
   "cell_type": "code",
   "execution_count": 16,
   "id": "8bb1a1e4-1432-465c-9f7b-d70d15687de9",
   "metadata": {},
   "outputs": [],
   "source": [
    "fine_step = 0.1  # pixels\n",
    "find_fwhm_factor = 0.05\n",
    "\n",
    "fwhms = get_fine_fwhm(\n",
    "    I_radii_max, pos_spot_qranges, pos_spot_peak,\n",
    "    fine_step, find_fwhm_factor\n",
    ")"
   ]
  },
  {
   "cell_type": "code",
   "execution_count": 17,
   "id": "f295da96-54b4-4d6e-a0ce-447f1138b51f",
   "metadata": {},
   "outputs": [],
   "source": [
    "def calculate_normalization_factor(\n",
    "    intensity_map: np.ndarray,\n",
    "    pos_spot_peak: dict,\n",
    "    fwhms: dict,\n",
    "    normalized_intensity: float\n",
    ") -> float:\n",
    "    I_sum = intensity_map[pos_spot_peak['y'], pos_spot_peak['x']] * fwhms['x'] * fwhms['y'] / (dqs['x'] * dqs['y'])\n",
    "    return normalized_intensity / I_sum  # photons * $\\AA^2$ / (units of I)"
   ]
  },
  {
   "cell_type": "code",
   "execution_count": 18,
   "id": "72008fde-ea3f-48fa-973f-7e3afc1f95b1",
   "metadata": {},
   "outputs": [],
   "source": [
    "I_sum_target = 10000.  # photons\n",
    "\n",
    "factor = calculate_normalization_factor(\n",
    "    I_radii_max, pos_spot_peak, fwhms,\n",
    "    I_sum_target\n",
    ")"
   ]
  },
  {
   "cell_type": "code",
   "execution_count": null,
   "id": "78ec9e28-3d39-43db-9206-e93f1bedad70",
   "metadata": {},
   "outputs": [],
   "source": [
    "I_spot = I_radii_max[\n",
    "    pos_spot_ranges['y'][0]:pos_spot_ranges['y'][1]+1,\n",
    "    pos_spot_ranges['x'][0]:pos_spot_ranges['x'][1]+1\n",
    "]\n",
    "I_spot.sum() * factor"
   ]
  },
  {
   "cell_type": "markdown",
   "id": "2ec04af7-7c3a-4ef6-9ee5-884448c5fba8",
   "metadata": {},
   "source": [
    "## save the normalization factor"
   ]
  },
  {
   "cell_type": "code",
   "execution_count": 20,
   "id": "02fd00a2-ddb8-4342-a3a3-17d1c7f47a09",
   "metadata": {},
   "outputs": [],
   "source": [
    "def add_params(group, key, values):\n",
    "    if values.get('value'):\n",
    "        _ = group.create_dataset(key, data=values['value'])\n",
    "        return group\n",
    "    group_ = group.create_group(f'{key}')\n",
    "    for key_, values_ in values.items():\n",
    "        group_ = add_params(group_, key_, values_)\n",
    "    return group\n",
    "\n",
    "\n",
    "def output(dstpath: str, parameters: dict, outputs: dict):\n",
    "    with h5py.File(dstpath, 'w') as tree:\n",
    "        # parameters\n",
    "        tree = add_params(tree, 'input_parameters', parameters)\n",
    "\n",
    "        # outputs\n",
    "        tree = add_params(tree, 'outputs', outputs)"
   ]
  },
  {
   "cell_type": "code",
   "execution_count": 21,
   "id": "26a79b7e-ebea-46e3-8e4b-b9e8e491fce9",
   "metadata": {},
   "outputs": [],
   "source": [
    "parameters = {\n",
    "    'srcpath': {\n",
    "        'value': srclist[ind_radii_max],\n",
    "        'unit': 'none',\n",
    "        'type': 'str'\n",
    "    },\n",
    "    'pos_expected': {\n",
    "        'value': pos_expected,\n",
    "        'unit': '1/angstrom',\n",
    "        'type': 'tuple(float)'\n",
    "    },\n",
    "    'width': {\n",
    "        'value': width,\n",
    "        'unit': '1/angstrom',\n",
    "        'type': 'float'\n",
    "    },\n",
    "    'threshold': {\n",
    "        'value': threshold_I,\n",
    "        'unit': 'arbitrary',\n",
    "        'type': 'float'\n",
    "    },\n",
    "    'fine_step': {\n",
    "        'value': fine_step,\n",
    "        'unit': 'pixel',\n",
    "        'type': 'float'\n",
    "    },\n",
    "    'find_fwhm_factor': {\n",
    "        'value': find_fwhm_factor,\n",
    "        'unit': 'none',\n",
    "        'type': 'float'\n",
    "    },\n",
    "    'normalized_intensity': {\n",
    "        'value': I_sum_target,\n",
    "        'unit': 'photons',\n",
    "        'type': 'float'\n",
    "    }\n",
    "}\n"
   ]
  },
  {
   "cell_type": "code",
   "execution_count": 22,
   "id": "8298bb59-4515-4e55-8f24-203bb9de7f8d",
   "metadata": {},
   "outputs": [],
   "source": [
    "outputs = {\n",
    "    'main_outputs': {\n",
    "        'normalization_factor': {\n",
    "            'value': factor,\n",
    "            'unit': 'photons',\n",
    "            'type': 'float'\n",
    "        },\n",
    "        'fwhm_x': {\n",
    "            'value': fwhms['x'],\n",
    "            'unit': '1/angstrom',\n",
    "            'type': 'tuple(float)'\n",
    "        },\n",
    "        'fwhm_y': {\n",
    "            'value': fwhms['y'],\n",
    "            'unit': '1/angstrom',\n",
    "            'type': 'tuple(float)'\n",
    "        }\n",
    "    },\n",
    "    'positions': {\n",
    "        'pos_spot_range_x': {\n",
    "            'value': pos_spot_ranges['x'],\n",
    "            'unit': 'pixel',\n",
    "            'type': 'tuple(int)'\n",
    "        },\n",
    "        'pos_spot_range_y': {\n",
    "            'value': pos_spot_ranges['y'],\n",
    "            'unit': 'pixel',\n",
    "            'type': 'tuple(int)'\n",
    "        },\n",
    "        'pos_spot_peak_x': {\n",
    "            'value': pos_spot_peak['x'],\n",
    "            'unit': 'pixel',\n",
    "            'type': 'tuple(int)'\n",
    "        },\n",
    "        'pos_spot_peak_y': {\n",
    "            'value': pos_spot_peak['y'],\n",
    "            'unit': 'pixel',\n",
    "            'type': 'tuple(int)'\n",
    "        }\n",
    "    }\n",
    "}"
   ]
  },
  {
   "cell_type": "code",
   "execution_count": 23,
   "id": "9e30ad8d-63d2-458d-87dd-d129241e1240",
   "metadata": {},
   "outputs": [],
   "source": [
    "outputdir = '../output_data/02_normalization'\n",
    "if not os.path.exists(outputdir):\n",
    "    os.makedirs(outputdir)\n",
    "\n",
    "fname = 'factor.h5'\n",
    "output(os.path.join(outputdir, fname), parameters, outputs)"
   ]
  },
  {
   "cell_type": "markdown",
   "id": "2ecbce5c-de60-4597-9298-d05e1d9c164a",
   "metadata": {},
   "source": [
    "## chetk the output"
   ]
  },
  {
   "cell_type": "code",
   "execution_count": null,
   "id": "4da756cc-25ff-4a0d-999d-7f539909e197",
   "metadata": {},
   "outputs": [],
   "source": [
    "with h5py.File(os.path.join(outputdir, fname), 'r') as tree:\n",
    "    print_h5_tree(tree)\n",
    "    print(tree['input_parameters']['srcpath'][()].decode('utf-8'))\n",
    "    print(tree['outputs']['main_outputs']['normalization_factor'][()])"
   ]
  },
  {
   "cell_type": "code",
   "execution_count": null,
   "id": "bd04f388-2922-4b92-a158-ae053426b967",
   "metadata": {},
   "outputs": [],
   "source": []
  }
 ],
 "metadata": {
  "kernelspec": {
   "display_name": "dg_tutorial",
   "language": "python",
   "name": "python3"
  },
  "language_info": {
   "codemirror_mode": {
    "name": "ipython",
    "version": 3
   },
   "file_extension": ".py",
   "mimetype": "text/x-python",
   "name": "python",
   "nbconvert_exporter": "python",
   "pygments_lexer": "ipython3",
   "version": "3.12.7"
  }
 },
 "nbformat": 4,
 "nbformat_minor": 5
}
