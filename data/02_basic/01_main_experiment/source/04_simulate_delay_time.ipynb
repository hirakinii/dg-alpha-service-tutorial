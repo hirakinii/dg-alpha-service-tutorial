{
 "cells": [
  {
   "cell_type": "markdown",
   "id": "0b6672f7-859c-40ea-871b-bec542c4f20b",
   "metadata": {},
   "source": [
    "# Purpose\n",
    "calculate delay time"
   ]
  },
  {
   "cell_type": "code",
   "execution_count": 1,
   "id": "d7df8d40-82e5-4d50-be80-dfb9271e0bd4",
   "metadata": {},
   "outputs": [],
   "source": [
    "import glob\n",
    "import h5py\n",
    "import numpy as np\n",
    "import os\n",
    "\n",
    "%matplotlib inline"
   ]
  },
  {
   "cell_type": "markdown",
   "id": "39471420-38cd-4ee8-92ec-f4846c9aa385",
   "metadata": {},
   "source": [
    "## functions"
   ]
  },
  {
   "cell_type": "code",
   "execution_count": 2,
   "id": "b1fd5291-91a8-4357-933c-83041c8c71ca",
   "metadata": {},
   "outputs": [],
   "source": [
    "def print_h5_tree(val, pre=''):\n",
    "    if isinstance(val, h5py._hl.files.File):\n",
    "        print(val.filename)\n",
    "\n",
    "    items = len(val)\n",
    "    for key, val in val.items():\n",
    "        items -= 1\n",
    "        if items == 0:\n",
    "            # the last item\n",
    "            if isinstance(val, h5py._hl.group.Group):\n",
    "                print(pre + '└── ' + key)\n",
    "                print_h5_tree(val, pre+'    ')\n",
    "            else:\n",
    "                print(pre + '└── ' + key)\n",
    "        else:\n",
    "            if isinstance(val, h5py._hl.group.Group):\n",
    "                print(pre + '├── ' + key)\n",
    "                print_h5_tree(val, pre+'│   ')\n",
    "            else:\n",
    "                print(pre + '├── ' + key)\n",
    "\n",
    "\n",
    "def print_h5_tree_from_path(fpath: str):\n",
    "    with h5py.File(fpath, \"r\") as tree:\n",
    "        print_h5_tree(tree)"
   ]
  },
  {
   "cell_type": "code",
   "execution_count": 3,
   "id": "d061242d-cb05-4abd-881c-b5078cc325d1",
   "metadata": {},
   "outputs": [],
   "source": [
    "def add_params(group, key, values):\n",
    "    if values.get('value') is not None:\n",
    "        _ = group.create_dataset(key, data=values['value'])\n",
    "        return group\n",
    "    group_ = group.create_group(f'{key}')\n",
    "    for key_, values_ in values.items():\n",
    "        group_ = add_params(group_, key_, values_)\n",
    "    return group\n",
    "\n",
    "\n",
    "def output(dstpath: str, output_dict: dict):\n",
    "    with h5py.File(dstpath, 'w') as tree:\n",
    "        for key in output_dict.keys():\n",
    "            tree = add_params(tree, key, output_dict[key])"
   ]
  },
  {
   "cell_type": "code",
   "execution_count": 4,
   "id": "a58cfbb8-f9d9-4aaf-9bf2-1454c53065ef",
   "metadata": {},
   "outputs": [],
   "source": [
    "def calculate_timing_monitor_info(tree, speed_of_disordering, radius_init):\n",
    "    \"\"\"\n",
    "    Parameters\n",
    "    ----------\n",
    "    speed_of_disordering : float\n",
    "        speed of disordering (m/s = 1e-6 nm/fs).\n",
    "    \"\"\"\n",
    "    radius_ = tree['input_parameters']['target']['crystal_characteristic_length'][()]\n",
    "    delay_ = (radius_init - radius_) / 10. / (speed_of_disordering / 1e6)\n",
    "    dst_ = {\n",
    "        'timing_monitor': {\n",
    "            'delay_time': {\n",
    "                'value': delay_,\n",
    "                'unit': 'femtosecond',\n",
    "                'type': 'float'\n",
    "            }\n",
    "        }\n",
    "    }\n",
    "    return dst_"
   ]
  },
  {
   "cell_type": "code",
   "execution_count": 5,
   "id": "48370e57-db76-4b3c-a7b9-5f1652d59324",
   "metadata": {},
   "outputs": [],
   "source": [
    "# conditions to generate raw Bragg spots\n",
    "srcdir = \"../output_data/01_simulation/\"\n",
    "srclist = sorted(glob.glob(os.path.join(srcdir, \"*.h5\")))\n",
    "\n",
    "# output\n",
    "outputdir = \"../output_data/04_simulate_delay_time\"\n",
    "fname_fmt = 'delay_time_R{0:.2f}A.h5'\n",
    "if not os.path.exists(outputdir):\n",
    "    os.makedirs(outputdir)"
   ]
  },
  {
   "cell_type": "code",
   "execution_count": 6,
   "id": "8d7640c5-5e6c-4639-bf4d-1a1c4708b996",
   "metadata": {},
   "outputs": [],
   "source": [
    "speed_of_disordering = 70e3\n",
    "\n",
    "radii = []\n",
    "for fpath in srclist:\n",
    "    with h5py.File(fpath, \"r\") as tree:\n",
    "        radii.append(tree['input_parameters']['target']['crystal_characteristic_length'][()])\n",
    "\n",
    "radii = np.array(radii)\n",
    "radius_init = radii.max()"
   ]
  },
  {
   "cell_type": "markdown",
   "id": "0da616e5-4888-4a13-ad61-6a7d349fdbc9",
   "metadata": {},
   "source": [
    "# main"
   ]
  },
  {
   "cell_type": "code",
   "execution_count": 7,
   "id": "72b18cb5-18f8-4432-92a4-d63c9ac5df8c",
   "metadata": {},
   "outputs": [],
   "source": [
    "for ii, srcpath in enumerate(srclist):\n",
    "    radius_ = radii[ii]\n",
    "\n",
    "    # calculate\n",
    "    with h5py.File(srclist[ii], \"r\") as tree:\n",
    "        dst = calculate_timing_monitor_info(tree, speed_of_disordering, radius_init)\n",
    "    \n",
    "        # output\n",
    "        dstpath = os.path.join(outputdir, fname_fmt.format(radius_))\n",
    "        output(dstpath, dst)"
   ]
  },
  {
   "cell_type": "markdown",
   "id": "d6d0eff3-3b78-42db-862f-b8980c6d05c1",
   "metadata": {},
   "source": [
    "## check the output"
   ]
  },
  {
   "cell_type": "code",
   "execution_count": null,
   "id": "f9f64b76-69fb-4554-817a-d7ff751a790c",
   "metadata": {},
   "outputs": [],
   "source": [
    "outputlist = sorted(glob.glob(os.path.join(outputdir, \"*.h5\")))\n",
    "\n",
    "print_h5_tree_from_path(outputlist[0])"
   ]
  },
  {
   "cell_type": "code",
   "execution_count": null,
   "id": "8c0c1de1-afcd-42dc-ae96-dee097234aa8",
   "metadata": {},
   "outputs": [],
   "source": [
    "index = 2\n",
    "\n",
    "for fpath in outputlist:\n",
    "    with h5py.File(fpath, \"r\") as tree:\n",
    "        print(tree['timing_monitor']['delay_time'][()])"
   ]
  },
  {
   "cell_type": "code",
   "execution_count": null,
   "id": "0c581960-e2a0-4f35-9a53-31ab089055be",
   "metadata": {},
   "outputs": [],
   "source": []
  }
 ],
 "metadata": {
  "kernelspec": {
   "display_name": "dg_tutorial",
   "language": "python",
   "name": "python3"
  },
  "language_info": {
   "codemirror_mode": {
    "name": "ipython",
    "version": 3
   },
   "file_extension": ".py",
   "mimetype": "text/x-python",
   "name": "python",
   "nbconvert_exporter": "python",
   "pygments_lexer": "ipython3",
   "version": "3.12.7"
  }
 },
 "nbformat": 4,
 "nbformat_minor": 5
}
